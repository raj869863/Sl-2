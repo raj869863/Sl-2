{
 "cells": [
  {
   "cell_type": "code",
   "execution_count": 3,
   "id": "149dc83f-732c-4f32-bd84-0437f1437775",
   "metadata": {},
   "outputs": [
    {
     "name": "stdout",
     "output_type": "stream",
     "text": [
      "Initial hidden weights: [0.44633973 0.55812697] [0.10873838 0.10749618]\n",
      "Initial hidden biases: [0.00266573 0.84196919]\n",
      "Initial output weights: [0.01903737] [0.72798048]\n",
      "Initial output biases: [0.51653837]\n",
      "Final hidden weights: [3.64262706 5.71171992] [3.63366302 5.66843303]\n",
      "Final hidden bias: [-5.57153389 -2.35840799]\n",
      "Final output weights: [-7.95671103] [7.33720791]\n",
      "Final output bias: [-3.29931636]\n",
      "\n",
      "Output from neural network after 10,000 epochs: [0.06324396] [0.94145738] [0.94160634] [0.06324138]\n"
     ]
    }
   ],
   "source": [
    "import numpy as np\n",
    "#np.random.seed(0)\n",
    "\n",
    "def sigmoid (x):\n",
    "    return 1/(1 + np.exp(-x))\n",
    "def sigmoid_derivative(x):\n",
    "    return x * (1 - x)\n",
    "#Input datasets\n",
    "inputs = np.array([[0,0],[0,1],[1,0],[1,1]])\n",
    "expected_output = np.array([[0],[1],[1],[0]])\n",
    "epochs = 10000\n",
    "lr = 0.1\n",
    "i=1\n",
    "inputLayerNeurons, hiddenLayerNeurons, outputLayerNeurons = 2,2,1\n",
    "#Random weights and bias initialization\n",
    "hidden_weights =np.random.uniform(size=(inputLayerNeurons,hiddenLayerNeurons))\n",
    "hidden_bias =np.random.uniform(size=(1,hiddenLayerNeurons))\n",
    "output_weights = np.random.uniform(size=(hiddenLayerNeurons,outputLayerNeurons))\n",
    "output_bias = np.random.uniform(size=(1,outputLayerNeurons))\n",
    "print(\"Initial hidden weights: \",end='')\n",
    "print(*hidden_weights)\n",
    "print(\"Initial hidden biases: \",end='')\n",
    "print(*hidden_bias)\n",
    "print(\"Initial output weights: \",end='')\n",
    "print(*output_weights)\n",
    "print(\"Initial output biases: \",end='')\n",
    "print(*output_bias)\n",
    "#Training algorithm\n",
    "for i in range(epochs):\n",
    "    #Forward Propagation\n",
    "    hidden_layer_activation = np.dot(inputs,hidden_weights)\n",
    "    hidden_layer_activation += hidden_bias\n",
    "    hidden_layer_output = sigmoid(hidden_layer_activation)\n",
    "    output_layer_activation = np.dot(hidden_layer_output,output_weights)\n",
    "    output_layer_activation += output_bias\n",
    "    predicted_output = sigmoid(output_layer_activation)\n",
    "    #Backpropagation\n",
    "    error = expected_output - predicted_output\n",
    "    d_predicted_output = error * sigmoid_derivative(predicted_output)\n",
    "    error_hidden_layer = d_predicted_output.dot(output_weights.T)\n",
    "    d_hidden_layer = error_hidden_layer *sigmoid_derivative(hidden_layer_output)\n",
    "    #Updating Weights and Biases\n",
    "    output_weights += hidden_layer_output.T.dot(d_predicted_output) * lr\n",
    "    output_bias += np.sum(d_predicted_output,axis=0,keepdims=True) * lr\n",
    "    hidden_weights += inputs.T.dot(d_hidden_layer) * lr\n",
    "    hidden_bias += np.sum(d_hidden_layer,axis=0,keepdims=True) * lr\n",
    "print(\"Final hidden weights: \",end='')\n",
    "print(*hidden_weights)\n",
    "print(\"Final hidden bias: \",end='')\n",
    "print(*hidden_bias)\n",
    "print(\"Final output weights: \",end='')\n",
    "print(*output_weights)\n",
    "print(\"Final output bias: \",end='')\n",
    "print(*output_bias)\n",
    "print(\"\\nOutput from neural network after 10,000 epochs: \",end='')\n",
    "print(*predicted_output)"
   ]
  },
  {
   "cell_type": "code",
   "execution_count": 4,
   "id": "0821148a-5ae3-478e-ac08-3bf7729d2422",
   "metadata": {},
   "outputs": [
    {
     "name": "stdout",
     "output_type": "stream",
     "text": [
      "[[0.06324396]\n",
      " [0.94145738]\n",
      " [0.94160634]\n",
      " [0.06324138]]\n"
     ]
    }
   ],
   "source": [
    "print(predicted_output)"
   ]
  },
  {
   "cell_type": "code",
   "execution_count": 5,
   "id": "4e3f16ec-2063-4d5e-9b7b-7c4d3c7c1a05",
   "metadata": {},
   "outputs": [
    {
     "name": "stdout",
     "output_type": "stream",
     "text": [
      "[[-0.00374684]\n",
      " [ 0.0032266 ]\n",
      " [ 0.00321071]\n",
      " [-0.00374654]]\n"
     ]
    }
   ],
   "source": [
    "print(d_predicted_output)"
   ]
  },
  {
   "cell_type": "code",
   "execution_count": 6,
   "id": "668f7fb3-5715-4fef-a102-6eea3d4487f8",
   "metadata": {},
   "outputs": [
    {
     "name": "stdout",
     "output_type": "stream",
     "text": [
      "[[-5.57153389 -2.35840799]]\n"
     ]
    }
   ],
   "source": [
    "print(hidden_bias)"
   ]
  },
  {
   "cell_type": "code",
   "execution_count": null,
   "id": "f30e7503-c4ad-4bd5-9266-a6819f360e4d",
   "metadata": {},
   "outputs": [],
   "source": []
  }
 ],
 "metadata": {
  "kernelspec": {
   "display_name": "Python 3 (ipykernel)",
   "language": "python",
   "name": "python3"
  },
  "language_info": {
   "codemirror_mode": {
    "name": "ipython",
    "version": 3
   },
   "file_extension": ".py",
   "mimetype": "text/x-python",
   "name": "python",
   "nbconvert_exporter": "python",
   "pygments_lexer": "ipython3",
   "version": "3.13.1"
  }
 },
 "nbformat": 4,
 "nbformat_minor": 5
}
